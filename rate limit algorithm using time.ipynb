{
 "cells": [
  {
   "cell_type": "code",
   "execution_count": null,
   "metadata": {},
   "outputs": [],
   "source": [
    "#This algorithm will set rate limit for given requests per minute"
   ]
  },
  {
   "cell_type": "code",
   "execution_count": null,
   "metadata": {},
   "outputs": [],
   "source": [
    "#"
   ]
  },
  {
   "cell_type": "code",
   "execution_count": 3,
   "metadata": {},
   "outputs": [
    {
     "name": "stdout",
     "output_type": "stream",
     "text": [
      "0\n",
      "1\n",
      "2\n",
      "3\n",
      "4\n",
      "5\n",
      "6\n",
      "7\n",
      "8\n",
      "9\n"
     ]
    }
   ],
   "source": [
    "import time\n",
    "\n",
    "def limit_rate(sec):\n",
    "    \n",
    "    min_left = 1.0 / float(sec)\n",
    "    \n",
    "    def decorate(funct):\n",
    "        \n",
    "        last_called = [0.0]\n",
    "        \n",
    "        def real_limiting(*args,**kargs):\n",
    "            \n",
    "            gone_time = time.clock() - last_called[0]\n",
    "            \n",
    "            wait_time = min_left - gone_time\n",
    "            \n",
    "            if wait_time > 0:\n",
    "                \n",
    "                time.sleep(wait_time)\n",
    "                \n",
    "            ret = funct(*args,**kargs)\n",
    "            \n",
    "            last_called[0] = time.clock()\n",
    "            \n",
    "            return ret\n",
    "        return real_limiting\n",
    "    return decorate\n",
    "\n",
    "@limit_rate(1)\n",
    "def num_of_req(n):\n",
    "\n",
    "    print(i)\n",
    "\n",
    "    \n",
    "    \n",
    "n=10    \n",
    "\n",
    "for i in range(n):\n",
    "    \n",
    "    num_of_req(i)\n",
    "        \n",
    "            "
   ]
  },
  {
   "cell_type": "code",
   "execution_count": null,
   "metadata": {},
   "outputs": [],
   "source": []
  },
  {
   "cell_type": "code",
   "execution_count": null,
   "metadata": {},
   "outputs": [],
   "source": [
    "#This algorithm will set the limit by number of times connected."
   ]
  },
  {
   "cell_type": "code",
   "execution_count": null,
   "metadata": {},
   "outputs": [],
   "source": []
  },
  {
   "cell_type": "code",
   "execution_count": 4,
   "metadata": {},
   "outputs": [
    {
     "name": "stdout",
     "output_type": "stream",
     "text": [
      "Successfully connected\n"
     ]
    }
   ],
   "source": [
    "import functools\n",
    "\n",
    "max_count = 5\n",
    "\n",
    "def counts(funct):\n",
    "    \n",
    "    @functools.wraps(funct)\n",
    "    def no_counts(*args,**kwargs):\n",
    "        \n",
    "        no_counts.num_calls +=1\n",
    "        \n",
    "        if no_counts.num_calls >= max_count:\n",
    "            \n",
    "            print(\"connection max_limit exceeded\")\n",
    "            \n",
    "        else:\n",
    "            \n",
    "            print(\"Successfully connected\")\n",
    "            \n",
    "        return funct(*args,**kwargs)\n",
    "    no_counts.num_calls = 0\n",
    "    return no_counts\n",
    "\n",
    "\n",
    "\n",
    "@counts\n",
    "def connect():\n",
    "    pass\n",
    "\n",
    "connect()"
   ]
  },
  {
   "cell_type": "code",
   "execution_count": null,
   "metadata": {},
   "outputs": [],
   "source": []
  }
 ],
 "metadata": {
  "kernelspec": {
   "display_name": "Python 3",
   "language": "python",
   "name": "python3"
  },
  "language_info": {
   "codemirror_mode": {
    "name": "ipython",
    "version": 3
   },
   "file_extension": ".py",
   "mimetype": "text/x-python",
   "name": "python",
   "nbconvert_exporter": "python",
   "pygments_lexer": "ipython3",
   "version": "3.6.5"
  }
 },
 "nbformat": 4,
 "nbformat_minor": 2
}
